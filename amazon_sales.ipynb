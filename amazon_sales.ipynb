{
 "cells": [
  {
   "cell_type": "code",
   "execution_count": 124,
   "metadata": {},
   "outputs": [],
   "source": [
    "import pandas as pd\n",
    "import numpy as np\n",
    "import matplotlib.pyplot as plt\n",
    "import seaborn as sns\n",
    "\n",
    "import warnings\n",
    "warnings.simplefilter(action = 'ignore', category = FutureWarning)"
   ]
  },
  {
   "cell_type": "code",
   "execution_count": 125,
   "metadata": {},
   "outputs": [
    {
     "data": {
      "text/html": [
       "<div>\n",
       "<style scoped>\n",
       "    .dataframe tbody tr th:only-of-type {\n",
       "        vertical-align: middle;\n",
       "    }\n",
       "\n",
       "    .dataframe tbody tr th {\n",
       "        vertical-align: top;\n",
       "    }\n",
       "\n",
       "    .dataframe thead th {\n",
       "        text-align: right;\n",
       "    }\n",
       "</style>\n",
       "<table border=\"1\" class=\"dataframe\">\n",
       "  <thead>\n",
       "    <tr style=\"text-align: right;\">\n",
       "      <th></th>\n",
       "      <th>Order ID</th>\n",
       "      <th>Date</th>\n",
       "      <th>Status</th>\n",
       "      <th>Fulfilment</th>\n",
       "      <th>Sales Channel</th>\n",
       "      <th>ship-service-level</th>\n",
       "      <th>Category</th>\n",
       "      <th>Size</th>\n",
       "      <th>Courier Status</th>\n",
       "      <th>Qty</th>\n",
       "      <th>currency</th>\n",
       "      <th>Amount</th>\n",
       "      <th>ship-city</th>\n",
       "      <th>ship-state</th>\n",
       "      <th>ship-postal-code</th>\n",
       "      <th>ship-country</th>\n",
       "      <th>B2B</th>\n",
       "      <th>fulfilled-by</th>\n",
       "      <th>New</th>\n",
       "      <th>PendingS</th>\n",
       "    </tr>\n",
       "    <tr>\n",
       "      <th>index</th>\n",
       "      <th></th>\n",
       "      <th></th>\n",
       "      <th></th>\n",
       "      <th></th>\n",
       "      <th></th>\n",
       "      <th></th>\n",
       "      <th></th>\n",
       "      <th></th>\n",
       "      <th></th>\n",
       "      <th></th>\n",
       "      <th></th>\n",
       "      <th></th>\n",
       "      <th></th>\n",
       "      <th></th>\n",
       "      <th></th>\n",
       "      <th></th>\n",
       "      <th></th>\n",
       "      <th></th>\n",
       "      <th></th>\n",
       "      <th></th>\n",
       "    </tr>\n",
       "  </thead>\n",
       "  <tbody>\n",
       "    <tr>\n",
       "      <th>0</th>\n",
       "      <td>405-8078784-5731545</td>\n",
       "      <td>04-30-22</td>\n",
       "      <td>Cancelled</td>\n",
       "      <td>Merchant</td>\n",
       "      <td>Amazon.in</td>\n",
       "      <td>Standard</td>\n",
       "      <td>T-shirt</td>\n",
       "      <td>S</td>\n",
       "      <td>On the Way</td>\n",
       "      <td>0</td>\n",
       "      <td>INR</td>\n",
       "      <td>647.62</td>\n",
       "      <td>MUMBAI</td>\n",
       "      <td>MAHARASHTRA</td>\n",
       "      <td>400081.0</td>\n",
       "      <td>IN</td>\n",
       "      <td>False</td>\n",
       "      <td>Easy Ship</td>\n",
       "      <td>NaN</td>\n",
       "      <td>NaN</td>\n",
       "    </tr>\n",
       "    <tr>\n",
       "      <th>1</th>\n",
       "      <td>171-9198151-1101146</td>\n",
       "      <td>04-30-22</td>\n",
       "      <td>Shipped - Delivered to Buyer</td>\n",
       "      <td>Merchant</td>\n",
       "      <td>Amazon.in</td>\n",
       "      <td>Standard</td>\n",
       "      <td>Shirt</td>\n",
       "      <td>3XL</td>\n",
       "      <td>Shipped</td>\n",
       "      <td>1</td>\n",
       "      <td>INR</td>\n",
       "      <td>406.00</td>\n",
       "      <td>BENGALURU</td>\n",
       "      <td>KARNATAKA</td>\n",
       "      <td>560085.0</td>\n",
       "      <td>IN</td>\n",
       "      <td>False</td>\n",
       "      <td>Easy Ship</td>\n",
       "      <td>NaN</td>\n",
       "      <td>NaN</td>\n",
       "    </tr>\n",
       "    <tr>\n",
       "      <th>2</th>\n",
       "      <td>404-0687676-7273146</td>\n",
       "      <td>04-30-22</td>\n",
       "      <td>Shipped</td>\n",
       "      <td>Amazon</td>\n",
       "      <td>Amazon.in</td>\n",
       "      <td>Expedited</td>\n",
       "      <td>Shirt</td>\n",
       "      <td>XL</td>\n",
       "      <td>Shipped</td>\n",
       "      <td>1</td>\n",
       "      <td>INR</td>\n",
       "      <td>329.00</td>\n",
       "      <td>NAVI MUMBAI</td>\n",
       "      <td>MAHARASHTRA</td>\n",
       "      <td>410210.0</td>\n",
       "      <td>IN</td>\n",
       "      <td>True</td>\n",
       "      <td>NaN</td>\n",
       "      <td>NaN</td>\n",
       "      <td>NaN</td>\n",
       "    </tr>\n",
       "    <tr>\n",
       "      <th>3</th>\n",
       "      <td>403-9615377-8133951</td>\n",
       "      <td>04-30-22</td>\n",
       "      <td>Cancelled</td>\n",
       "      <td>Merchant</td>\n",
       "      <td>Amazon.in</td>\n",
       "      <td>Standard</td>\n",
       "      <td>Blazzer</td>\n",
       "      <td>L</td>\n",
       "      <td>On the Way</td>\n",
       "      <td>0</td>\n",
       "      <td>INR</td>\n",
       "      <td>753.33</td>\n",
       "      <td>PUDUCHERRY</td>\n",
       "      <td>PUDUCHERRY</td>\n",
       "      <td>605008.0</td>\n",
       "      <td>IN</td>\n",
       "      <td>False</td>\n",
       "      <td>Easy Ship</td>\n",
       "      <td>NaN</td>\n",
       "      <td>NaN</td>\n",
       "    </tr>\n",
       "    <tr>\n",
       "      <th>4</th>\n",
       "      <td>407-1069790-7240320</td>\n",
       "      <td>04-30-22</td>\n",
       "      <td>Shipped</td>\n",
       "      <td>Amazon</td>\n",
       "      <td>Amazon.in</td>\n",
       "      <td>Expedited</td>\n",
       "      <td>Trousers</td>\n",
       "      <td>3XL</td>\n",
       "      <td>Shipped</td>\n",
       "      <td>1</td>\n",
       "      <td>INR</td>\n",
       "      <td>574.00</td>\n",
       "      <td>CHENNAI</td>\n",
       "      <td>TAMIL NADU</td>\n",
       "      <td>600073.0</td>\n",
       "      <td>IN</td>\n",
       "      <td>False</td>\n",
       "      <td>NaN</td>\n",
       "      <td>NaN</td>\n",
       "      <td>NaN</td>\n",
       "    </tr>\n",
       "  </tbody>\n",
       "</table>\n",
       "</div>"
      ],
      "text/plain": [
       "                  Order ID      Date                        Status Fulfilment  \\\n",
       "index                                                                           \n",
       "0      405-8078784-5731545  04-30-22                     Cancelled   Merchant   \n",
       "1      171-9198151-1101146  04-30-22  Shipped - Delivered to Buyer   Merchant   \n",
       "2      404-0687676-7273146  04-30-22                       Shipped     Amazon   \n",
       "3      403-9615377-8133951  04-30-22                     Cancelled   Merchant   \n",
       "4      407-1069790-7240320  04-30-22                       Shipped     Amazon   \n",
       "\n",
       "      Sales Channel ship-service-level  Category Size Courier Status  Qty  \\\n",
       "index                                                                       \n",
       "0         Amazon.in           Standard   T-shirt    S     On the Way    0   \n",
       "1         Amazon.in           Standard     Shirt  3XL        Shipped    1   \n",
       "2         Amazon.in          Expedited     Shirt   XL        Shipped    1   \n",
       "3         Amazon.in           Standard   Blazzer    L     On the Way    0   \n",
       "4         Amazon.in          Expedited  Trousers  3XL        Shipped    1   \n",
       "\n",
       "      currency  Amount    ship-city   ship-state  ship-postal-code  \\\n",
       "index                                                                \n",
       "0          INR  647.62       MUMBAI  MAHARASHTRA          400081.0   \n",
       "1          INR  406.00    BENGALURU    KARNATAKA          560085.0   \n",
       "2          INR  329.00  NAVI MUMBAI  MAHARASHTRA          410210.0   \n",
       "3          INR  753.33   PUDUCHERRY   PUDUCHERRY          605008.0   \n",
       "4          INR  574.00      CHENNAI   TAMIL NADU          600073.0   \n",
       "\n",
       "      ship-country    B2B fulfilled-by  New  PendingS  \n",
       "index                                                  \n",
       "0               IN  False    Easy Ship  NaN       NaN  \n",
       "1               IN  False    Easy Ship  NaN       NaN  \n",
       "2               IN   True          NaN  NaN       NaN  \n",
       "3               IN  False    Easy Ship  NaN       NaN  \n",
       "4               IN  False          NaN  NaN       NaN  "
      ]
     },
     "execution_count": 125,
     "metadata": {},
     "output_type": "execute_result"
    }
   ],
   "source": [
    "df = pd.read_csv('/workspaces/Amazon_Sales_Dataset_Project/Amazon Sale Report (1).csv', index_col = 'index')\n",
    "df.head()"
   ]
  },
  {
   "cell_type": "code",
   "execution_count": 126,
   "metadata": {},
   "outputs": [
    {
     "data": {
      "text/html": [
       "<div>\n",
       "<style scoped>\n",
       "    .dataframe tbody tr th:only-of-type {\n",
       "        vertical-align: middle;\n",
       "    }\n",
       "\n",
       "    .dataframe tbody tr th {\n",
       "        vertical-align: top;\n",
       "    }\n",
       "\n",
       "    .dataframe thead th {\n",
       "        text-align: right;\n",
       "    }\n",
       "</style>\n",
       "<table border=\"1\" class=\"dataframe\">\n",
       "  <thead>\n",
       "    <tr style=\"text-align: right;\">\n",
       "      <th></th>\n",
       "      <th>Order ID</th>\n",
       "      <th>Date</th>\n",
       "      <th>Status</th>\n",
       "      <th>Fulfilment</th>\n",
       "      <th>Sales Channel</th>\n",
       "      <th>ship-service-level</th>\n",
       "      <th>Category</th>\n",
       "      <th>Size</th>\n",
       "      <th>Courier Status</th>\n",
       "      <th>Qty</th>\n",
       "      <th>currency</th>\n",
       "      <th>Amount</th>\n",
       "      <th>ship-city</th>\n",
       "      <th>ship-state</th>\n",
       "      <th>ship-postal-code</th>\n",
       "      <th>ship-country</th>\n",
       "      <th>B2B</th>\n",
       "      <th>fulfilled-by</th>\n",
       "      <th>New</th>\n",
       "      <th>PendingS</th>\n",
       "    </tr>\n",
       "    <tr>\n",
       "      <th>index</th>\n",
       "      <th></th>\n",
       "      <th></th>\n",
       "      <th></th>\n",
       "      <th></th>\n",
       "      <th></th>\n",
       "      <th></th>\n",
       "      <th></th>\n",
       "      <th></th>\n",
       "      <th></th>\n",
       "      <th></th>\n",
       "      <th></th>\n",
       "      <th></th>\n",
       "      <th></th>\n",
       "      <th></th>\n",
       "      <th></th>\n",
       "      <th></th>\n",
       "      <th></th>\n",
       "      <th></th>\n",
       "      <th></th>\n",
       "      <th></th>\n",
       "    </tr>\n",
       "  </thead>\n",
       "  <tbody>\n",
       "    <tr>\n",
       "      <th>128970</th>\n",
       "      <td>406-6001380-7673107</td>\n",
       "      <td>05-31-22</td>\n",
       "      <td>Shipped</td>\n",
       "      <td>Amazon</td>\n",
       "      <td>Amazon.in</td>\n",
       "      <td>Expedited</td>\n",
       "      <td>Shirt</td>\n",
       "      <td>XL</td>\n",
       "      <td>Shipped</td>\n",
       "      <td>1</td>\n",
       "      <td>INR</td>\n",
       "      <td>517.0</td>\n",
       "      <td>HYDERABAD</td>\n",
       "      <td>TELANGANA</td>\n",
       "      <td>500013.0</td>\n",
       "      <td>IN</td>\n",
       "      <td>False</td>\n",
       "      <td>NaN</td>\n",
       "      <td>NaN</td>\n",
       "      <td>NaN</td>\n",
       "    </tr>\n",
       "    <tr>\n",
       "      <th>128971</th>\n",
       "      <td>402-9551604-7544318</td>\n",
       "      <td>05-31-22</td>\n",
       "      <td>Shipped</td>\n",
       "      <td>Amazon</td>\n",
       "      <td>Amazon.in</td>\n",
       "      <td>Expedited</td>\n",
       "      <td>T-shirt</td>\n",
       "      <td>M</td>\n",
       "      <td>Shipped</td>\n",
       "      <td>1</td>\n",
       "      <td>INR</td>\n",
       "      <td>999.0</td>\n",
       "      <td>GURUGRAM</td>\n",
       "      <td>HARYANA</td>\n",
       "      <td>122004.0</td>\n",
       "      <td>IN</td>\n",
       "      <td>False</td>\n",
       "      <td>NaN</td>\n",
       "      <td>NaN</td>\n",
       "      <td>NaN</td>\n",
       "    </tr>\n",
       "    <tr>\n",
       "      <th>128972</th>\n",
       "      <td>407-9547469-3152358</td>\n",
       "      <td>05-31-22</td>\n",
       "      <td>Shipped</td>\n",
       "      <td>Amazon</td>\n",
       "      <td>Amazon.in</td>\n",
       "      <td>Expedited</td>\n",
       "      <td>Blazzer</td>\n",
       "      <td>XXL</td>\n",
       "      <td>Shipped</td>\n",
       "      <td>1</td>\n",
       "      <td>INR</td>\n",
       "      <td>690.0</td>\n",
       "      <td>HYDERABAD</td>\n",
       "      <td>TELANGANA</td>\n",
       "      <td>500049.0</td>\n",
       "      <td>IN</td>\n",
       "      <td>False</td>\n",
       "      <td>NaN</td>\n",
       "      <td>NaN</td>\n",
       "      <td>NaN</td>\n",
       "    </tr>\n",
       "    <tr>\n",
       "      <th>128973</th>\n",
       "      <td>402-6184140-0545956</td>\n",
       "      <td>05-31-22</td>\n",
       "      <td>Shipped</td>\n",
       "      <td>Amazon</td>\n",
       "      <td>Amazon.in</td>\n",
       "      <td>Expedited</td>\n",
       "      <td>T-shirt</td>\n",
       "      <td>XS</td>\n",
       "      <td>Shipped</td>\n",
       "      <td>1</td>\n",
       "      <td>INR</td>\n",
       "      <td>1199.0</td>\n",
       "      <td>Halol</td>\n",
       "      <td>Gujarat</td>\n",
       "      <td>389350.0</td>\n",
       "      <td>IN</td>\n",
       "      <td>False</td>\n",
       "      <td>NaN</td>\n",
       "      <td>NaN</td>\n",
       "      <td>NaN</td>\n",
       "    </tr>\n",
       "    <tr>\n",
       "      <th>128974</th>\n",
       "      <td>408-7436540-8728312</td>\n",
       "      <td>05-31-22</td>\n",
       "      <td>Shipped</td>\n",
       "      <td>Amazon</td>\n",
       "      <td>Amazon.in</td>\n",
       "      <td>Expedited</td>\n",
       "      <td>T-shirt</td>\n",
       "      <td>S</td>\n",
       "      <td>Shipped</td>\n",
       "      <td>1</td>\n",
       "      <td>INR</td>\n",
       "      <td>696.0</td>\n",
       "      <td>Raipur</td>\n",
       "      <td>CHHATTISGARH</td>\n",
       "      <td>492014.0</td>\n",
       "      <td>IN</td>\n",
       "      <td>False</td>\n",
       "      <td>NaN</td>\n",
       "      <td>NaN</td>\n",
       "      <td>NaN</td>\n",
       "    </tr>\n",
       "  </tbody>\n",
       "</table>\n",
       "</div>"
      ],
      "text/plain": [
       "                   Order ID      Date   Status Fulfilment Sales Channel  \\\n",
       "index                                                                     \n",
       "128970  406-6001380-7673107  05-31-22  Shipped     Amazon     Amazon.in   \n",
       "128971  402-9551604-7544318  05-31-22  Shipped     Amazon     Amazon.in   \n",
       "128972  407-9547469-3152358  05-31-22  Shipped     Amazon     Amazon.in   \n",
       "128973  402-6184140-0545956  05-31-22  Shipped     Amazon     Amazon.in   \n",
       "128974  408-7436540-8728312  05-31-22  Shipped     Amazon     Amazon.in   \n",
       "\n",
       "       ship-service-level Category Size Courier Status  Qty currency  Amount  \\\n",
       "index                                                                          \n",
       "128970          Expedited    Shirt   XL        Shipped    1      INR   517.0   \n",
       "128971          Expedited  T-shirt    M        Shipped    1      INR   999.0   \n",
       "128972          Expedited  Blazzer  XXL        Shipped    1      INR   690.0   \n",
       "128973          Expedited  T-shirt   XS        Shipped    1      INR  1199.0   \n",
       "128974          Expedited  T-shirt    S        Shipped    1      INR   696.0   \n",
       "\n",
       "        ship-city    ship-state  ship-postal-code ship-country    B2B  \\\n",
       "index                                                                   \n",
       "128970  HYDERABAD     TELANGANA          500013.0           IN  False   \n",
       "128971   GURUGRAM       HARYANA          122004.0           IN  False   \n",
       "128972  HYDERABAD     TELANGANA          500049.0           IN  False   \n",
       "128973      Halol       Gujarat          389350.0           IN  False   \n",
       "128974     Raipur  CHHATTISGARH          492014.0           IN  False   \n",
       "\n",
       "       fulfilled-by  New  PendingS  \n",
       "index                               \n",
       "128970          NaN  NaN       NaN  \n",
       "128971          NaN  NaN       NaN  \n",
       "128972          NaN  NaN       NaN  \n",
       "128973          NaN  NaN       NaN  \n",
       "128974          NaN  NaN       NaN  "
      ]
     },
     "execution_count": 126,
     "metadata": {},
     "output_type": "execute_result"
    }
   ],
   "source": [
    "df.tail()"
   ]
  },
  {
   "cell_type": "code",
   "execution_count": 127,
   "metadata": {},
   "outputs": [
    {
     "name": "stdout",
     "output_type": "stream",
     "text": [
      "<class 'pandas.core.frame.DataFrame'>\n",
      "Index: 128976 entries, 0 to 128974\n",
      "Data columns (total 20 columns):\n",
      " #   Column              Non-Null Count   Dtype  \n",
      "---  ------              --------------   -----  \n",
      " 0   Order ID            128976 non-null  object \n",
      " 1   Date                128976 non-null  object \n",
      " 2   Status              128976 non-null  object \n",
      " 3   Fulfilment          128976 non-null  object \n",
      " 4   Sales Channel       128976 non-null  object \n",
      " 5   ship-service-level  128976 non-null  object \n",
      " 6   Category            128976 non-null  object \n",
      " 7   Size                128976 non-null  object \n",
      " 8   Courier Status      128976 non-null  object \n",
      " 9   Qty                 128976 non-null  int64  \n",
      " 10  currency            121176 non-null  object \n",
      " 11  Amount              121176 non-null  float64\n",
      " 12  ship-city           128941 non-null  object \n",
      " 13  ship-state          128941 non-null  object \n",
      " 14  ship-postal-code    128941 non-null  float64\n",
      " 15  ship-country        128941 non-null  object \n",
      " 16  B2B                 128976 non-null  bool   \n",
      " 17  fulfilled-by        39263 non-null   object \n",
      " 18  New                 0 non-null       float64\n",
      " 19  PendingS            0 non-null       float64\n",
      "dtypes: bool(1), float64(4), int64(1), object(14)\n",
      "memory usage: 19.8+ MB\n"
     ]
    }
   ],
   "source": [
    "df.info()"
   ]
  },
  {
   "cell_type": "code",
   "execution_count": 128,
   "metadata": {},
   "outputs": [],
   "source": [
    "df.drop(['New', 'PendingS'], axis = 1, inplace = True)"
   ]
  },
  {
   "cell_type": "code",
   "execution_count": 129,
   "metadata": {},
   "outputs": [
    {
     "name": "stdout",
     "output_type": "stream",
     "text": [
      "<class 'pandas.core.frame.DataFrame'>\n",
      "Index: 128976 entries, 0 to 128974\n",
      "Data columns (total 18 columns):\n",
      " #   Column              Non-Null Count   Dtype  \n",
      "---  ------              --------------   -----  \n",
      " 0   Order ID            128976 non-null  object \n",
      " 1   Date                128976 non-null  object \n",
      " 2   Status              128976 non-null  object \n",
      " 3   Fulfilment          128976 non-null  object \n",
      " 4   Sales Channel       128976 non-null  object \n",
      " 5   ship-service-level  128976 non-null  object \n",
      " 6   Category            128976 non-null  object \n",
      " 7   Size                128976 non-null  object \n",
      " 8   Courier Status      128976 non-null  object \n",
      " 9   Qty                 128976 non-null  int64  \n",
      " 10  currency            121176 non-null  object \n",
      " 11  Amount              121176 non-null  float64\n",
      " 12  ship-city           128941 non-null  object \n",
      " 13  ship-state          128941 non-null  object \n",
      " 14  ship-postal-code    128941 non-null  float64\n",
      " 15  ship-country        128941 non-null  object \n",
      " 16  B2B                 128976 non-null  bool   \n",
      " 17  fulfilled-by        39263 non-null   object \n",
      "dtypes: bool(1), float64(2), int64(1), object(14)\n",
      "memory usage: 17.8+ MB\n"
     ]
    }
   ],
   "source": [
    "df.info()"
   ]
  },
  {
   "cell_type": "markdown",
   "metadata": {},
   "source": [
    "# Eksik Verilere Göz Atalım"
   ]
  },
  {
   "cell_type": "code",
   "execution_count": 130,
   "metadata": {},
   "outputs": [
    {
     "data": {
      "text/plain": [
       "Order ID                  0\n",
       "Date                      0\n",
       "Status                    0\n",
       "Fulfilment                0\n",
       "Sales Channel             0\n",
       "ship-service-level        0\n",
       "Category                  0\n",
       "Size                      0\n",
       "Courier Status            0\n",
       "Qty                       0\n",
       "currency               7800\n",
       "Amount                 7800\n",
       "ship-city                35\n",
       "ship-state               35\n",
       "ship-postal-code         35\n",
       "ship-country             35\n",
       "B2B                       0\n",
       "fulfilled-by          89713\n",
       "dtype: int64"
      ]
     },
     "execution_count": 130,
     "metadata": {},
     "output_type": "execute_result"
    }
   ],
   "source": [
    "df.isnull().sum()"
   ]
  },
  {
   "cell_type": "code",
   "execution_count": 131,
   "metadata": {},
   "outputs": [
    {
     "data": {
      "text/plain": [
       "128976"
      ]
     },
     "execution_count": 131,
     "metadata": {},
     "output_type": "execute_result"
    }
   ],
   "source": [
    "df.shape[0] # Satır sayısını direkt alır"
   ]
  },
  {
   "cell_type": "code",
   "execution_count": 132,
   "metadata": {},
   "outputs": [
    {
     "data": {
      "text/plain": [
       "18"
      ]
     },
     "execution_count": 132,
     "metadata": {},
     "output_type": "execute_result"
    }
   ],
   "source": [
    "df.shape[1] # sütun sayısını direkt alır"
   ]
  },
  {
   "cell_type": "code",
   "execution_count": 133,
   "metadata": {},
   "outputs": [
    {
     "data": {
      "text/html": [
       "<div>\n",
       "<style scoped>\n",
       "    .dataframe tbody tr th:only-of-type {\n",
       "        vertical-align: middle;\n",
       "    }\n",
       "\n",
       "    .dataframe tbody tr th {\n",
       "        vertical-align: top;\n",
       "    }\n",
       "\n",
       "    .dataframe thead th {\n",
       "        text-align: right;\n",
       "    }\n",
       "</style>\n",
       "<table border=\"1\" class=\"dataframe\">\n",
       "  <thead>\n",
       "    <tr style=\"text-align: right;\">\n",
       "      <th></th>\n",
       "      <th>currency</th>\n",
       "      <th>Amount</th>\n",
       "    </tr>\n",
       "    <tr>\n",
       "      <th>index</th>\n",
       "      <th></th>\n",
       "      <th></th>\n",
       "    </tr>\n",
       "  </thead>\n",
       "  <tbody>\n",
       "    <tr>\n",
       "      <th>0</th>\n",
       "      <td>INR</td>\n",
       "      <td>647.62</td>\n",
       "    </tr>\n",
       "    <tr>\n",
       "      <th>1</th>\n",
       "      <td>INR</td>\n",
       "      <td>406.00</td>\n",
       "    </tr>\n",
       "    <tr>\n",
       "      <th>2</th>\n",
       "      <td>INR</td>\n",
       "      <td>329.00</td>\n",
       "    </tr>\n",
       "    <tr>\n",
       "      <th>3</th>\n",
       "      <td>INR</td>\n",
       "      <td>753.33</td>\n",
       "    </tr>\n",
       "    <tr>\n",
       "      <th>4</th>\n",
       "      <td>INR</td>\n",
       "      <td>574.00</td>\n",
       "    </tr>\n",
       "    <tr>\n",
       "      <th>...</th>\n",
       "      <td>...</td>\n",
       "      <td>...</td>\n",
       "    </tr>\n",
       "    <tr>\n",
       "      <th>128970</th>\n",
       "      <td>INR</td>\n",
       "      <td>517.00</td>\n",
       "    </tr>\n",
       "    <tr>\n",
       "      <th>128971</th>\n",
       "      <td>INR</td>\n",
       "      <td>999.00</td>\n",
       "    </tr>\n",
       "    <tr>\n",
       "      <th>128972</th>\n",
       "      <td>INR</td>\n",
       "      <td>690.00</td>\n",
       "    </tr>\n",
       "    <tr>\n",
       "      <th>128973</th>\n",
       "      <td>INR</td>\n",
       "      <td>1199.00</td>\n",
       "    </tr>\n",
       "    <tr>\n",
       "      <th>128974</th>\n",
       "      <td>INR</td>\n",
       "      <td>696.00</td>\n",
       "    </tr>\n",
       "  </tbody>\n",
       "</table>\n",
       "<p>128976 rows × 2 columns</p>\n",
       "</div>"
      ],
      "text/plain": [
       "       currency   Amount\n",
       "index                   \n",
       "0           INR   647.62\n",
       "1           INR   406.00\n",
       "2           INR   329.00\n",
       "3           INR   753.33\n",
       "4           INR   574.00\n",
       "...         ...      ...\n",
       "128970      INR   517.00\n",
       "128971      INR   999.00\n",
       "128972      INR   690.00\n",
       "128973      INR  1199.00\n",
       "128974      INR   696.00\n",
       "\n",
       "[128976 rows x 2 columns]"
      ]
     },
     "execution_count": 133,
     "metadata": {},
     "output_type": "execute_result"
    }
   ],
   "source": [
    "df[['currency', 'Amount']]"
   ]
  },
  {
   "cell_type": "code",
   "execution_count": 134,
   "metadata": {},
   "outputs": [
    {
     "data": {
      "text/plain": [
       "array(['INR', nan], dtype=object)"
      ]
     },
     "execution_count": 134,
     "metadata": {},
     "output_type": "execute_result"
    }
   ],
   "source": [
    "df['currency'].unique()"
   ]
  },
  {
   "cell_type": "code",
   "execution_count": 135,
   "metadata": {},
   "outputs": [],
   "source": [
    "# currency sütunu full INR değeri içerdiğinden eksik verileri INR ile doldurabilirim\n",
    "df['currency'].fillna('INR', inplace = True)"
   ]
  },
  {
   "cell_type": "code",
   "execution_count": 136,
   "metadata": {},
   "outputs": [
    {
     "data": {
      "text/plain": [
       "count    121176.000000\n",
       "mean        648.562176\n",
       "std         281.185041\n",
       "min           0.000000\n",
       "25%         449.000000\n",
       "50%         605.000000\n",
       "75%         788.000000\n",
       "max        5584.000000\n",
       "Name: Amount, dtype: float64"
      ]
     },
     "execution_count": 136,
     "metadata": {},
     "output_type": "execute_result"
    }
   ],
   "source": [
    "df['Amount'].describe()"
   ]
  },
  {
   "cell_type": "code",
   "execution_count": 137,
   "metadata": {},
   "outputs": [
    {
     "data": {
      "text/plain": [
       "np.float64(605.0)"
      ]
     },
     "execution_count": 137,
     "metadata": {},
     "output_type": "execute_result"
    }
   ],
   "source": [
    "amountMedian = df['Amount'].median() # amount sütunun ortamnca değerini hesapladım\n",
    "amountMedian"
   ]
  },
  {
   "cell_type": "code",
   "execution_count": 138,
   "metadata": {},
   "outputs": [
    {
     "data": {
      "text/plain": [
       "np.int64(0)"
      ]
     },
     "execution_count": 138,
     "metadata": {},
     "output_type": "execute_result"
    }
   ],
   "source": [
    "df['Amount'].fillna(amountMedian, inplace = True)\n",
    "df['Amount'].isnull().sum()"
   ]
  },
  {
   "cell_type": "code",
   "execution_count": 139,
   "metadata": {},
   "outputs": [
    {
     "data": {
      "text/plain": [
       "ship-city            object\n",
       "ship-state           object\n",
       "ship-country         object\n",
       "ship-postal-code    float64\n",
       "dtype: object"
      ]
     },
     "execution_count": 139,
     "metadata": {},
     "output_type": "execute_result"
    }
   ],
   "source": [
    "df[[\"ship-city\", \"ship-state\",\"ship-country\", \"ship-postal-code\"]].dtypes"
   ]
  },
  {
   "cell_type": "code",
   "execution_count": 140,
   "metadata": {},
   "outputs": [],
   "source": [
    "def modAlma(sütun_ismi):\n",
    "    return df[sütun_ismi].mode()[0]"
   ]
  },
  {
   "cell_type": "code",
   "execution_count": 141,
   "metadata": {},
   "outputs": [],
   "source": [
    "ship_city_mod = modAlma(\"ship-city\")\n",
    "ship_state_mod = modAlma(\"ship-state\")\n",
    "ship_country_mod = modAlma(\"ship-country\")"
   ]
  },
  {
   "cell_type": "code",
   "execution_count": 142,
   "metadata": {},
   "outputs": [
    {
     "name": "stdout",
     "output_type": "stream",
     "text": [
      "BENGALURU MAHARASHTRA IN\n"
     ]
    }
   ],
   "source": [
    "print(ship_city_mod, ship_state_mod, ship_country_mod)"
   ]
  },
  {
   "cell_type": "code",
   "execution_count": 143,
   "metadata": {},
   "outputs": [],
   "source": [
    "def str_eksik_veri_doldurma(sütun_ismi, method):\n",
    "    df[sütun_ismi].fillna(method, inplace = True)"
   ]
  },
  {
   "cell_type": "code",
   "execution_count": 144,
   "metadata": {},
   "outputs": [],
   "source": [
    "str_eksik_veri_doldurma(\"ship-city\", ship_city_mod)\n",
    "str_eksik_veri_doldurma('ship-state', ship_state_mod)\n",
    "str_eksik_veri_doldurma('ship-country', ship_country_mod)"
   ]
  },
  {
   "cell_type": "code",
   "execution_count": 145,
   "metadata": {},
   "outputs": [
    {
     "data": {
      "text/plain": [
       "dtype('O')"
      ]
     },
     "execution_count": 145,
     "metadata": {},
     "output_type": "execute_result"
    }
   ],
   "source": [
    "# ship-postal-code bir id olduğu için sayısal bir anlam taşımadığı için burayı string tipine dönüştüreceğiz.\n",
    "df['ship-postal-code'] = df['ship-postal-code'].astype('str')\n",
    "df['ship-postal-code'].dtype"
   ]
  },
  {
   "cell_type": "code",
   "execution_count": 146,
   "metadata": {},
   "outputs": [],
   "source": [
    "ship_postal_code_mod = modAlma(sütun_ismi = 'ship-postal-code')\n",
    "str_eksik_veri_doldurma(sütun_ismi = 'ship-postal-code', method = ship_postal_code_mod)"
   ]
  },
  {
   "cell_type": "code",
   "execution_count": 147,
   "metadata": {},
   "outputs": [
    {
     "data": {
      "text/plain": [
       "Order ID                  0\n",
       "Date                      0\n",
       "Status                    0\n",
       "Fulfilment                0\n",
       "Sales Channel             0\n",
       "ship-service-level        0\n",
       "Category                  0\n",
       "Size                      0\n",
       "Courier Status            0\n",
       "Qty                       0\n",
       "currency                  0\n",
       "Amount                    0\n",
       "ship-city                 0\n",
       "ship-state                0\n",
       "ship-postal-code          0\n",
       "ship-country              0\n",
       "B2B                       0\n",
       "fulfilled-by          89713\n",
       "dtype: int64"
      ]
     },
     "execution_count": 147,
     "metadata": {},
     "output_type": "execute_result"
    }
   ],
   "source": [
    "df.isnull().sum()"
   ]
  },
  {
   "cell_type": "code",
   "execution_count": 148,
   "metadata": {},
   "outputs": [],
   "source": [
    "# fulfilled-by sütununda doldurulamyacak kadar çok eksik veri olduğu için bu sütunu kaldıracağız\n",
    "df.drop('fulfilled-by', axis = 1, inplace = True)"
   ]
  },
  {
   "cell_type": "markdown",
   "metadata": {},
   "source": [
    "# Veri Tipi Dönüsümü Yapalim"
   ]
  },
  {
   "cell_type": "code",
   "execution_count": 149,
   "metadata": {},
   "outputs": [
    {
     "data": {
      "text/plain": [
       "Order ID               object\n",
       "Date                   object\n",
       "Status                 object\n",
       "Fulfilment             object\n",
       "Sales Channel          object\n",
       "ship-service-level     object\n",
       "Category               object\n",
       "Size                   object\n",
       "Courier Status         object\n",
       "Qty                     int64\n",
       "currency               object\n",
       "Amount                float64\n",
       "ship-city              object\n",
       "ship-state             object\n",
       "ship-postal-code       object\n",
       "ship-country           object\n",
       "B2B                      bool\n",
       "dtype: object"
      ]
     },
     "execution_count": 149,
     "metadata": {},
     "output_type": "execute_result"
    }
   ],
   "source": [
    "# Veri tipini kontrol edelim\n",
    "df.dtypes"
   ]
  },
  {
   "cell_type": "code",
   "execution_count": 150,
   "metadata": {},
   "outputs": [
    {
     "data": {
      "text/plain": [
       "array(['04-30-22', '04-30-22', '04-30-22', ..., '05-31-22', '05-31-22',\n",
       "       '05-31-22'], dtype=object)"
      ]
     },
     "execution_count": 150,
     "metadata": {},
     "output_type": "execute_result"
    }
   ],
   "source": [
    "df['Date'].values"
   ]
  },
  {
   "cell_type": "markdown",
   "metadata": {},
   "source": [
    "Python'da zaman bilgisi iceren sütunlari string tipinden datetime tipine degistermemiz gerekiyor. Aksi takdirde zaman iceren bilgiden python string gördügü icen ben ay yil gün saat dakika saniye gibi bilgileri cikaramam."
   ]
  },
  {
   "cell_type": "code",
   "execution_count": 151,
   "metadata": {},
   "outputs": [
    {
     "name": "stderr",
     "output_type": "stream",
     "text": [
      "/tmp/ipykernel_54936/2394721818.py:1: UserWarning: Could not infer format, so each element will be parsed individually, falling back to `dateutil`. To ensure parsing is consistent and as-expected, please specify a format.\n",
      "  df['Date'] = pd.to_datetime(df['Date'])\n"
     ]
    }
   ],
   "source": [
    "df['Date'] = pd.to_datetime(df['Date'])"
   ]
  },
  {
   "cell_type": "code",
   "execution_count": 152,
   "metadata": {},
   "outputs": [
    {
     "data": {
      "text/plain": [
       "<bound method Series.info of index\n",
       "0        2022-04-30\n",
       "1        2022-04-30\n",
       "2        2022-04-30\n",
       "3        2022-04-30\n",
       "4        2022-04-30\n",
       "            ...    \n",
       "128970   2022-05-31\n",
       "128971   2022-05-31\n",
       "128972   2022-05-31\n",
       "128973   2022-05-31\n",
       "128974   2022-05-31\n",
       "Name: Date, Length: 128976, dtype: datetime64[ns]>"
      ]
     },
     "execution_count": 152,
     "metadata": {},
     "output_type": "execute_result"
    }
   ],
   "source": [
    "# Tip dönüsümü olmus mu kontrol edelim\n",
    "df['Date'].info"
   ]
  },
  {
   "cell_type": "markdown",
   "metadata": {},
   "source": [
    "# Sütun Isimlerini Düzgünlestirme"
   ]
  },
  {
   "cell_type": "markdown",
   "metadata": {},
   "source": [
    "Eger cok anlasilmaz kisaltma sütun ismi konulduysa sütun isimlerini degistirebilirsin.\n",
    "Opsiyonel olarak Ingilizce sütun ismini Türkceye çevirmek için kullanabilirsin."
   ]
  },
  {
   "cell_type": "code",
   "execution_count": 153,
   "metadata": {},
   "outputs": [
    {
     "data": {
      "text/plain": [
       "Index(['Order ID', 'Date', 'Status', 'Fulfilment', 'Sales Channel',\n",
       "       'ship-service-level', 'Category', 'Size', 'Courier Status', 'Qty',\n",
       "       'currency', 'Amount', 'ship-city', 'ship-state', 'ship-postal-code',\n",
       "       'ship-country', 'B2B'],\n",
       "      dtype='object')"
      ]
     },
     "execution_count": 153,
     "metadata": {},
     "output_type": "execute_result"
    }
   ],
   "source": [
    "df.columns"
   ]
  },
  {
   "cell_type": "code",
   "execution_count": 154,
   "metadata": {},
   "outputs": [],
   "source": [
    "df.rename(columns = {'Qty':'Quantity'}, inplace = True)"
   ]
  },
  {
   "cell_type": "code",
   "execution_count": 155,
   "metadata": {},
   "outputs": [
    {
     "data": {
      "text/plain": [
       "Index(['Order ID', 'Date', 'Status', 'Fulfilment', 'Sales Channel',\n",
       "       'ship-service-level', 'Category', 'Size', 'Courier Status', 'Quantity',\n",
       "       'currency', 'Amount', 'ship-city', 'ship-state', 'ship-postal-code',\n",
       "       'ship-country', 'B2B'],\n",
       "      dtype='object')"
      ]
     },
     "execution_count": 155,
     "metadata": {},
     "output_type": "execute_result"
    }
   ],
   "source": [
    "# Kontrol edelim\n",
    "df.columns"
   ]
  },
  {
   "cell_type": "markdown",
   "metadata": {},
   "source": [
    "# EDA --> Explority Data Analysis --> Kesfedici Veri Analizi"
   ]
  },
  {
   "cell_type": "code",
   "execution_count": 156,
   "metadata": {},
   "outputs": [
    {
     "data": {
      "text/plain": [
       "Index(['Order ID', 'Date', 'Status', 'Fulfilment', 'Sales Channel',\n",
       "       'ship-service-level', 'Category', 'Size', 'Courier Status', 'Quantity',\n",
       "       'currency', 'Amount', 'ship-city', 'ship-state', 'ship-postal-code',\n",
       "       'ship-country', 'B2B'],\n",
       "      dtype='object')"
      ]
     },
     "execution_count": 156,
     "metadata": {},
     "output_type": "execute_result"
    }
   ],
   "source": [
    "# Önce sütunlara göz atalim\n",
    "df.columns"
   ]
  },
  {
   "cell_type": "code",
   "execution_count": 157,
   "metadata": {},
   "outputs": [
    {
     "data": {
      "text/plain": [
       "11"
      ]
     },
     "execution_count": 157,
     "metadata": {},
     "output_type": "execute_result"
    }
   ],
   "source": [
    "# Sie sütunundaki kiyafet bedenlerinden kac tane olduguna göz attik\n",
    "df['Size'].nunique()"
   ]
  },
  {
   "cell_type": "code",
   "execution_count": 158,
   "metadata": {},
   "outputs": [
    {
     "name": "stdout",
     "output_type": "stream",
     "text": [
      "object\n",
      "<bound method Series.unique of index\n",
      "0           S\n",
      "1         3XL\n",
      "2          XL\n",
      "3           L\n",
      "4         3XL\n",
      "         ... \n",
      "128970     XL\n",
      "128971      M\n",
      "128972    XXL\n",
      "128973     XS\n",
      "128974      S\n",
      "Name: Size, Length: 128976, dtype: object>\n"
     ]
    }
   ],
   "source": [
    "print(df['Size'].dtype)\n",
    "print(df['Size'].unique)"
   ]
  },
  {
   "cell_type": "code",
   "execution_count": 159,
   "metadata": {},
   "outputs": [
    {
     "data": {
      "text/plain": [
       "Text(0.5, 0, 'Bedenler')"
      ]
     },
     "execution_count": 159,
     "metadata": {},
     "output_type": "execute_result"
    },
    {
     "data": {
      "image/png": "[encoded data removed]",
      "text/plain": [
       "<Figure size 1000x600 with 1 Axes>"
      ]
     },
     "metadata": {},
     "output_type": "display_data"
    }
   ],
   "source": [
    "plt.figure(figsize = (10, 6))\n",
    "sns.countplot(x = 'Size', data = df)\n",
    "plt.title('beden Ölcülerinin Satis Adetleri')\n",
    "plt.ylabel('Adetler')\n",
    "plt.xlabel('Bedenler')"
   ]
  },
  {
   "cell_type": "markdown",
   "metadata": {},
   "source": [
    "Insanlar 3XL'dan sonra kiyafet siparisi etmiyorlar."
   ]
  },
  {
   "cell_type": "markdown",
   "metadata": {},
   "source": [
    "# Grup Bazli Analizler"
   ]
  },
  {
   "cell_type": "markdown",
   "metadata": {},
   "source": [
    "as_index = False --> gruplama Yaparken indexleri yeniden olusturur\n",
    "\n",
    "sort_values(by = Quantity, ascending = False) Quantity sütunana göre büyükten kücüğe sıralama yapar"
   ]
  },
  {
   "cell_type": "markdown",
   "metadata": {},
   "source": [
    "Pandas'da en cok kullanilan analiz yöntemlerinden biridir."
   ]
  },
  {
   "cell_type": "code",
   "execution_count": 160,
   "metadata": {},
   "outputs": [],
   "source": [
    "beden_satis_adetleri = df.groupby('Size', as_index = False)['Quantity'].sum().sort_values(by = 'Quantity', ascending = False)\n",
    "beden_satis_adetleri\n",
    "beden_satis_adetleri.to_csv('output/output_csv/beden_satis_adetleri.csv')"
   ]
  },
  {
   "cell_type": "code",
   "execution_count": 161,
   "metadata": {},
   "outputs": [
    {
     "data": {
      "text/html": [
       "<div>\n",
       "<style scoped>\n",
       "    .dataframe tbody tr th:only-of-type {\n",
       "        vertical-align: middle;\n",
       "    }\n",
       "\n",
       "    .dataframe tbody tr th {\n",
       "        vertical-align: top;\n",
       "    }\n",
       "\n",
       "    .dataframe thead th {\n",
       "        text-align: right;\n",
       "    }\n",
       "</style>\n",
       "<table border=\"1\" class=\"dataframe\">\n",
       "  <thead>\n",
       "    <tr style=\"text-align: right;\">\n",
       "      <th></th>\n",
       "      <th>Size</th>\n",
       "      <th>Quantity</th>\n",
       "    </tr>\n",
       "  </thead>\n",
       "  <tbody>\n",
       "    <tr>\n",
       "      <th>0</th>\n",
       "      <td>3XL</td>\n",
       "      <td>13360</td>\n",
       "    </tr>\n",
       "    <tr>\n",
       "      <th>1</th>\n",
       "      <td>4XL</td>\n",
       "      <td>398</td>\n",
       "    </tr>\n",
       "    <tr>\n",
       "      <th>2</th>\n",
       "      <td>5XL</td>\n",
       "      <td>513</td>\n",
       "    </tr>\n",
       "    <tr>\n",
       "      <th>3</th>\n",
       "      <td>6XL</td>\n",
       "      <td>688</td>\n",
       "    </tr>\n",
       "    <tr>\n",
       "      <th>4</th>\n",
       "      <td>Free</td>\n",
       "      <td>2070</td>\n",
       "    </tr>\n",
       "    <tr>\n",
       "      <th>5</th>\n",
       "      <td>L</td>\n",
       "      <td>19706</td>\n",
       "    </tr>\n",
       "    <tr>\n",
       "      <th>6</th>\n",
       "      <td>M</td>\n",
       "      <td>20138</td>\n",
       "    </tr>\n",
       "    <tr>\n",
       "      <th>7</th>\n",
       "      <td>S</td>\n",
       "      <td>15041</td>\n",
       "    </tr>\n",
       "    <tr>\n",
       "      <th>8</th>\n",
       "      <td>XL</td>\n",
       "      <td>18636</td>\n",
       "    </tr>\n",
       "    <tr>\n",
       "      <th>9</th>\n",
       "      <td>XS</td>\n",
       "      <td>9850</td>\n",
       "    </tr>\n",
       "    <tr>\n",
       "      <th>10</th>\n",
       "      <td>XXL</td>\n",
       "      <td>16246</td>\n",
       "    </tr>\n",
       "  </tbody>\n",
       "</table>\n",
       "</div>"
      ],
      "text/plain": [
       "    Size  Quantity\n",
       "0    3XL     13360\n",
       "1    4XL       398\n",
       "2    5XL       513\n",
       "3    6XL       688\n",
       "4   Free      2070\n",
       "5      L     19706\n",
       "6      M     20138\n",
       "7      S     15041\n",
       "8     XL     18636\n",
       "9     XS      9850\n",
       "10   XXL     16246"
      ]
     },
     "execution_count": 161,
     "metadata": {},
     "output_type": "execute_result"
    }
   ],
   "source": [
    "df.groupby('Size', as_index = False)['Quantity'].sum()"
   ]
  },
  {
   "cell_type": "code",
   "execution_count": 162,
   "metadata": {},
   "outputs": [
    {
     "data": {
      "text/plain": [
       "Text(0.5, 0, 'Bedenler')"
      ]
     },
     "execution_count": 162,
     "metadata": {},
     "output_type": "execute_result"
    },
    {
     "data": {
      "image/png": "[encoded data removed]",
      "text/plain": [
       "<Figure size 1000x600 with 1 Axes>"
      ]
     },
     "metadata": {},
     "output_type": "display_data"
    }
   ],
   "source": [
    "plt.figure(figsize = (10, 6))\n",
    "sns.barplot(x = 'Size', y = 'Quantity', data = beden_satis_adetleri, palette = 'coolwarm')\n",
    "plt.title('Beden Ölcülerinin Satis Adetleri')\n",
    "plt.ylabel('Adetler')\n",
    "plt.xlabel('Bedenler')"
   ]
  },
  {
   "cell_type": "markdown",
   "metadata": {},
   "source": [
    "# Kargo Gemisi Analizi"
   ]
  },
  {
   "cell_type": "markdown",
   "metadata": {},
   "source": [
    "Kargo gemisinin yolda mi, iptal mi edildi, kargolanmadi mi yoksa kargolandi mi bunun analizini yapalim."
   ]
  },
  {
   "cell_type": "code",
   "execution_count": 163,
   "metadata": {},
   "outputs": [
    {
     "name": "stdout",
     "output_type": "stream",
     "text": [
      "\n",
      "        Sütunun Essiz Degerleri:\n",
      "      \n",
      "        ['On the Way' 'Shipped' 'Cancelled' 'Unshipped']\n",
      "---------------------------------------------------------------------\n",
      "        Sütunun Essiz Deger Sayisi:\n",
      "\n",
      "        4\n",
      "---------------------------------------------------------------------\n",
      "        Detayli Kargo Durumlari:\n",
      "\n",
      "        ['Cancelled' 'Shipped - Delivered to Buyer' 'Shipped'\n",
      " 'Shipped - Returned to Seller' 'Shipped - Rejected by Buyer'\n",
      " 'Shipped - Lost in Transit' 'Shipped - Out for Delivery'\n",
      " 'Shipped - Returning to Seller' 'Shipped - Picked Up' 'Pending'\n",
      " 'Pending - Waiting for Pick Up' 'Shipped - Damaged' 'Shipping']\n",
      "---------------------------------------------------------------------\n",
      "\n"
     ]
    }
   ],
   "source": [
    "print(f\"\"\"\n",
    "        Sütunun Essiz Degerleri:\n",
    "      \n",
    "        {df['Courier Status'].unique()}\n",
    "---------------------------------------------------------------------\n",
    "        Sütunun Essiz Deger Sayisi:\n",
    "\n",
    "        {df['Courier Status'].nunique()}\n",
    "---------------------------------------------------------------------\n",
    "        Detayli Kargo Durumlari:\n",
    "\n",
    "        {df['Status'].unique()}\n",
    "---------------------------------------------------------------------\n",
    "\"\"\"\n",
    ")"
   ]
  },
  {
   "cell_type": "code",
   "execution_count": 164,
   "metadata": {},
   "outputs": [
    {
     "data": {
      "text/plain": [
       "Text(0, 0.5, 'Siparis Adetleri')"
      ]
     },
     "execution_count": 164,
     "metadata": {},
     "output_type": "execute_result"
    },
    {
     "data": {
      "image/png": "[encoded data removed]",
      "text/plain": [
       "<Figure size 1500x500 with 1 Axes>"
      ]
     },
     "metadata": {},
     "output_type": "display_data"
    }
   ],
   "source": [
    "# Görsellestirelim\n",
    "plt.figure(figsize = (15, 5))\n",
    "sns.countplot(data = df, x = 'Courier Status', hue = 'Status')\n",
    "plt.title('Kargo Durumlarinin Analizi')\n",
    "plt.xlabel('Kargo Durumlari')\n",
    "plt.ylabel('Siparis Adetleri')"
   ]
  },
  {
   "cell_type": "code",
   "execution_count": 165,
   "metadata": {},
   "outputs": [],
   "source": [
    "# Pivot Analiz\n",
    "gruplanmis_veri = df.groupby(['Courier Status', 'Status']).size().reset_index(name = 'count').sort_values(by = 'count', ascending = False)\n",
    "gruplanmis_veri.to_csv('/workspaces/Amazon_Sales_Dataset_Project/output/output_csv/gruplanmis_veri.csv')"
   ]
  },
  {
   "cell_type": "code",
   "execution_count": 166,
   "metadata": {},
   "outputs": [
    {
     "data": {
      "text/html": [
       "<div>\n",
       "<style scoped>\n",
       "    .dataframe tbody tr th:only-of-type {\n",
       "        vertical-align: middle;\n",
       "    }\n",
       "\n",
       "    .dataframe tbody tr th {\n",
       "        vertical-align: top;\n",
       "    }\n",
       "\n",
       "    .dataframe thead th {\n",
       "        text-align: right;\n",
       "    }\n",
       "</style>\n",
       "<table border=\"1\" class=\"dataframe\">\n",
       "  <thead>\n",
       "    <tr style=\"text-align: right;\">\n",
       "      <th></th>\n",
       "      <th>Courier Status</th>\n",
       "      <th>Status</th>\n",
       "      <th>count</th>\n",
       "    </tr>\n",
       "  </thead>\n",
       "  <tbody>\n",
       "    <tr>\n",
       "      <th>0</th>\n",
       "      <td>Cancelled</td>\n",
       "      <td>Cancelled</td>\n",
       "      <td>5845</td>\n",
       "    </tr>\n",
       "    <tr>\n",
       "      <th>1</th>\n",
       "      <td>Cancelled</td>\n",
       "      <td>Pending</td>\n",
       "      <td>2</td>\n",
       "    </tr>\n",
       "    <tr>\n",
       "      <th>2</th>\n",
       "      <td>Cancelled</td>\n",
       "      <td>Shipped</td>\n",
       "      <td>93</td>\n",
       "    </tr>\n",
       "    <tr>\n",
       "      <th>3</th>\n",
       "      <td>On the Way</td>\n",
       "      <td>Cancelled</td>\n",
       "      <td>6859</td>\n",
       "    </tr>\n",
       "    <tr>\n",
       "      <th>4</th>\n",
       "      <td>On the Way</td>\n",
       "      <td>Shipped - Delivered to Buyer</td>\n",
       "      <td>8</td>\n",
       "    </tr>\n",
       "    <tr>\n",
       "      <th>5</th>\n",
       "      <td>On the Way</td>\n",
       "      <td>Shipped - Returned to Seller</td>\n",
       "      <td>3</td>\n",
       "    </tr>\n",
       "    <tr>\n",
       "      <th>6</th>\n",
       "      <td>Shipped</td>\n",
       "      <td>Pending</td>\n",
       "      <td>10</td>\n",
       "    </tr>\n",
       "    <tr>\n",
       "      <th>7</th>\n",
       "      <td>Shipped</td>\n",
       "      <td>Shipped</td>\n",
       "      <td>77607</td>\n",
       "    </tr>\n",
       "    <tr>\n",
       "      <th>8</th>\n",
       "      <td>Shipped</td>\n",
       "      <td>Shipped - Damaged</td>\n",
       "      <td>1</td>\n",
       "    </tr>\n",
       "    <tr>\n",
       "      <th>9</th>\n",
       "      <td>Shipped</td>\n",
       "      <td>Shipped - Delivered to Buyer</td>\n",
       "      <td>28748</td>\n",
       "    </tr>\n",
       "    <tr>\n",
       "      <th>10</th>\n",
       "      <td>Shipped</td>\n",
       "      <td>Shipped - Lost in Transit</td>\n",
       "      <td>5</td>\n",
       "    </tr>\n",
       "    <tr>\n",
       "      <th>11</th>\n",
       "      <td>Shipped</td>\n",
       "      <td>Shipped - Out for Delivery</td>\n",
       "      <td>35</td>\n",
       "    </tr>\n",
       "    <tr>\n",
       "      <th>12</th>\n",
       "      <td>Shipped</td>\n",
       "      <td>Shipped - Picked Up</td>\n",
       "      <td>973</td>\n",
       "    </tr>\n",
       "    <tr>\n",
       "      <th>13</th>\n",
       "      <td>Shipped</td>\n",
       "      <td>Shipped - Rejected by Buyer</td>\n",
       "      <td>11</td>\n",
       "    </tr>\n",
       "    <tr>\n",
       "      <th>14</th>\n",
       "      <td>Shipped</td>\n",
       "      <td>Shipped - Returned to Seller</td>\n",
       "      <td>1951</td>\n",
       "    </tr>\n",
       "    <tr>\n",
       "      <th>15</th>\n",
       "      <td>Shipped</td>\n",
       "      <td>Shipped - Returning to Seller</td>\n",
       "      <td>145</td>\n",
       "    </tr>\n",
       "    <tr>\n",
       "      <th>16</th>\n",
       "      <td>Unshipped</td>\n",
       "      <td>Cancelled</td>\n",
       "      <td>5630</td>\n",
       "    </tr>\n",
       "    <tr>\n",
       "      <th>17</th>\n",
       "      <td>Unshipped</td>\n",
       "      <td>Pending</td>\n",
       "      <td>646</td>\n",
       "    </tr>\n",
       "    <tr>\n",
       "      <th>18</th>\n",
       "      <td>Unshipped</td>\n",
       "      <td>Pending - Waiting for Pick Up</td>\n",
       "      <td>281</td>\n",
       "    </tr>\n",
       "    <tr>\n",
       "      <th>19</th>\n",
       "      <td>Unshipped</td>\n",
       "      <td>Shipped</td>\n",
       "      <td>115</td>\n",
       "    </tr>\n",
       "    <tr>\n",
       "      <th>20</th>\n",
       "      <td>Unshipped</td>\n",
       "      <td>Shipping</td>\n",
       "      <td>8</td>\n",
       "    </tr>\n",
       "  </tbody>\n",
       "</table>\n",
       "</div>"
      ],
      "text/plain": [
       "   Courier Status                         Status  count\n",
       "0       Cancelled                      Cancelled   5845\n",
       "1       Cancelled                        Pending      2\n",
       "2       Cancelled                        Shipped     93\n",
       "3      On the Way                      Cancelled   6859\n",
       "4      On the Way   Shipped - Delivered to Buyer      8\n",
       "5      On the Way   Shipped - Returned to Seller      3\n",
       "6         Shipped                        Pending     10\n",
       "7         Shipped                        Shipped  77607\n",
       "8         Shipped              Shipped - Damaged      1\n",
       "9         Shipped   Shipped - Delivered to Buyer  28748\n",
       "10        Shipped      Shipped - Lost in Transit      5\n",
       "11        Shipped     Shipped - Out for Delivery     35\n",
       "12        Shipped            Shipped - Picked Up    973\n",
       "13        Shipped    Shipped - Rejected by Buyer     11\n",
       "14        Shipped   Shipped - Returned to Seller   1951\n",
       "15        Shipped  Shipped - Returning to Seller    145\n",
       "16      Unshipped                      Cancelled   5630\n",
       "17      Unshipped                        Pending    646\n",
       "18      Unshipped  Pending - Waiting for Pick Up    281\n",
       "19      Unshipped                        Shipped    115\n",
       "20      Unshipped                       Shipping      8"
      ]
     },
     "execution_count": 166,
     "metadata": {},
     "output_type": "execute_result"
    }
   ],
   "source": [
    "# Pivot Analiz\n",
    "gruplanmis_veri = df.groupby(['Courier Status', 'Status']).size().reset_index(name = 'count')\n",
    "gruplanmis_veri"
   ]
  },
  {
   "cell_type": "code",
   "execution_count": 167,
   "metadata": {},
   "outputs": [
    {
     "data": {
      "text/plain": [
       "Text(0, 0.5, 'Siparis Adetleri')"
      ]
     },
     "execution_count": 167,
     "metadata": {},
     "output_type": "execute_result"
    },
    {
     "data": {
      "image/png": "[encoded data removed]",
      "text/plain": [
       "<Figure size 1500x500 with 1 Axes>"
      ]
     },
     "metadata": {},
     "output_type": "display_data"
    }
   ],
   "source": [
    "plt.figure(figsize = (15, 5))\n",
    "sns.barplot(data = gruplanmis_veri, x = 'Courier Status', y = 'count', hue = 'Status')\n",
    "plt.title('Kargo Durumlarinin Analizi')\n",
    "plt.xlabel('Kargo Durumlari')\n",
    "plt.ylabel('Siparis Adetleri')"
   ]
  },
  {
   "cell_type": "markdown",
   "metadata": {},
   "source": [
    "Siparislerin cogu Kurye araciligiyla gönderilmektedir ve kargolananlarin 3/1'i aliciya ulasmitir. Kücük bir kismi ise saticiya geri dönmüstür."
   ]
  },
  {
   "cell_type": "markdown",
   "metadata": {},
   "source": [
    "# Satilan kiyafet türlerinin satis-adet analizi"
   ]
  },
  {
   "cell_type": "code",
   "execution_count": 168,
   "metadata": {},
   "outputs": [
    {
     "name": "stdout",
     "output_type": "stream",
     "text": [
      "\n",
      "        Sütunun Essiz Degerleri:\n",
      "      \n",
      "        ['T-shirt' 'Shirt' 'Blazzer' 'Trousers' 'Perfume' 'Socks' 'Shoes' 'Wallet'\n",
      " 'Watch']\n",
      "---------------------------------------------------------------------\n",
      "        Sütunun Essiz Deger Sayisi:\n",
      "\n",
      "        9\n",
      "---------------------------------------------------------------------\n",
      "\n"
     ]
    }
   ],
   "source": [
    "print(f\"\"\"\n",
    "        Sütunun Essiz Degerleri:\n",
    "      \n",
    "        {df['Category'].unique()}\n",
    "---------------------------------------------------------------------\n",
    "        Sütunun Essiz Deger Sayisi:\n",
    "\n",
    "        {df['Category'].nunique()}\n",
    "---------------------------------------------------------------------\n",
    "\"\"\")"
   ]
  },
  {
   "cell_type": "code",
   "execution_count": 169,
   "metadata": {},
   "outputs": [
    {
     "data": {
      "text/plain": [
       "([0, 1, 2, 3, 4, 5, 6, 7, 8],\n",
       " [Text(0, 0, 'T-shirt'),\n",
       "  Text(1, 0, 'Shirt'),\n",
       "  Text(2, 0, 'Blazzer'),\n",
       "  Text(3, 0, 'Trousers'),\n",
       "  Text(4, 0, 'Perfume'),\n",
       "  Text(5, 0, 'Socks'),\n",
       "  Text(6, 0, 'Shoes'),\n",
       "  Text(7, 0, 'Wallet'),\n",
       "  Text(8, 0, 'Watch')])"
      ]
     },
     "execution_count": 169,
     "metadata": {},
     "output_type": "execute_result"
    },
    {
     "data": {
      "image/png": "[encoded data removed]",
      "text/plain": [
       "<Figure size 1500x600 with 1 Axes>"
      ]
     },
     "metadata": {},
     "output_type": "display_data"
    }
   ],
   "source": [
    "plt.figure(figsize = (15, 6))\n",
    "sns.countplot(x = 'Category', data = df)\n",
    "plt.title('Kiyafet Türlerinin Satis Adet Analizi')\n",
    "plt.xlabel('Kiyafet Türleri')\n",
    "plt.ylabel('Satis Adetleri')\n",
    "plt.xticks(rotation = 45)"
   ]
  },
  {
   "cell_type": "code",
   "execution_count": 170,
   "metadata": {},
   "outputs": [],
   "source": [
    "kiyafet_türleri = df.groupby('Category').size().reset_index(name = 'Satis Adetleri').sort_values(by = 'Satis Adetleri', ascending = False)\n",
    "kiyafet_türleri.to_csv('/workspaces/Amazon_Sales_Dataset_Project/output/output_csv/ürün_satis_adet.csv')"
   ]
  },
  {
   "cell_type": "code",
   "execution_count": 172,
   "metadata": {},
   "outputs": [
    {
     "data": {
      "text/plain": [
       "Text(0, 0.5, 'Satis Adetleri')"
      ]
     },
     "execution_count": 172,
     "metadata": {},
     "output_type": "execute_result"
    },
    {
     "data": {
      "image/png": "[encoded data removed]",
      "text/plain": [
       "<Figure size 1500x600 with 1 Axes>"
      ]
     },
     "metadata": {},
     "output_type": "display_data"
    }
   ],
   "source": [
    "plt.figure(figsize = (15, 6))\n",
    "sns.barplot(x = 'Category', y = 'Satis Adetleri', data = kiyafet_türleri)\n",
    "plt.title('Kiyafet Türlerinin Satis Adet Analizi')\n",
    "plt.xlabel('Kiyafet Türleri')\n",
    "plt.ylabel('Satis Adetleri')"
   ]
  }
 ],
 "metadata": {
  "kernelspec": {
   "display_name": "sanal_ortam",
   "language": "python",
   "name": "python3"
  },
  "language_info": {
   "codemirror_mode": {
    "name": "ipython",
    "version": 3
   },
   "file_extension": ".py",
   "mimetype": "text/x-python",
   "name": "python",
   "nbconvert_exporter": "python",
   "pygments_lexer": "ipython3",
   "version": "3.12.1"
  }
 },
 "nbformat": 4,
 "nbformat_minor": 2
}
